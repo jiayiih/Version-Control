{
 "cells": [
  {
   "cell_type": "code",
   "execution_count": 12,
   "metadata": {},
   "outputs": [
    {
     "name": "stdout",
     "output_type": "stream",
     "text": [
      "Enter Marks Obtained in 5 Subjects: \n"
     ]
    },
    {
     "name": "stdin",
     "output_type": "stream",
     "text": [
      " 1\n",
      " 90\n",
      " 98\n"
     ]
    },
    {
     "name": "stdout",
     "output_type": "stream",
     "text": [
      "Your grade is D\n",
      "Your grade avg is 63.0\n"
     ]
    }
   ],
   "source": [
    "print(\"Enter random text here!: \")\n",
    "test1 = int(input())\n",
    "test2 = int(input())\n",
    "test3 = int(input())\n",
    "\n",
    "average = (test1 + test2 + test3) / 3;\n",
    "if average >= 90 and average <= 100:\n",
    "    print(\"Your grade is A\")\n",
    "elif  average >= 80 and average < 90:\n",
    "    print(\"Your grade is B\")\n",
    "elif  average >= 70 and average < 80:\n",
    "    print(\"Your grade is C\")\n",
    "elif average >= 60 and average < 70:\n",
    "    print(\"Your grade is D\")\n",
    "else: \n",
    "     print(\"Your grade is F\")\n",
    "print(\"Your grade avg is\", str(average) )"
   ]
  },
  {
   "cell_type": "code",
   "execution_count": null,
   "metadata": {},
   "outputs": [],
   "source": []
  }
 ],
 "metadata": {
  "kernelspec": {
   "display_name": "Python 3",
   "language": "python",
   "name": "python3"
  },
  "language_info": {
   "codemirror_mode": {
    "name": "ipython",
    "version": 3
   },
   "file_extension": ".py",
   "mimetype": "text/x-python",
   "name": "python",
   "nbconvert_exporter": "python",
   "pygments_lexer": "ipython3",
   "version": "3.8.3"
  }
 },
 "nbformat": 4,
 "nbformat_minor": 4
}
